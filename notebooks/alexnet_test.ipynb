{
 "cells": [
  {
   "cell_type": "markdown",
   "metadata": {},
   "source": [
    "### Alexnet"
   ]
  },
  {
   "cell_type": "code",
   "execution_count": 7,
   "metadata": {},
   "outputs": [],
   "source": [
    "from preprocess.preprocessor import Preprocessor\n",
    "from models.alexnet import AlexNet\n",
    "import torch\n",
    "import os"
   ]
  },
  {
   "cell_type": "code",
   "execution_count": 5,
   "metadata": {},
   "outputs": [],
   "source": [
    "SPLIT_DIR = \"/home/joaorodriguesz/dev/workspace/github/dynamic-signs-recognition-libras-alphabet-cnn/data/split\"\n",
    "DEVICE  = torch.device(\"cuda\" if torch.cuda.is_available() else \"cpu\")\n",
    "SAVED_MODELS_DIR = \"/home/joaorodriguesz/dev/workspace/github/dynamic-signs-recognition-libras-alphabet-cnn/saved_models\""
   ]
  },
  {
   "cell_type": "code",
   "execution_count": 6,
   "metadata": {},
   "outputs": [
    {
     "name": "stdout",
     "output_type": "stream",
     "text": [
      "Unexpected exception formatting exception. Falling back to standard exception\n"
     ]
    },
    {
     "name": "stderr",
     "output_type": "stream",
     "text": [
      "Traceback (most recent call last):\n",
      "  File \"/home/joaorodriguesz/dev/workspace/github/dynamic-signs-recognition-libras-alphabet-cnn/venv/lib/python3.12/site-packages/IPython/core/interactiveshell.py\", line 3549, in run_code\n",
      "  File \"/tmp/ipykernel_85966/3120711021.py\", line 13, in <module>\n",
      "    model = AlexNet(num_classes=len(idx2lbl))\n",
      "            ^^^^^^^^^^^^^^^^^^^^^^^^^^^^^^^^^\n",
      "  File \"/home/joaorodriguesz/dev/workspace/github/dynamic-signs-recognition-libras-alphabet-cnn/src/models/alexnet.py\", line 15, in __init__\n",
      "    base_model = models.alexnet(weights=models.AlexNet_Weights.DEFAULT)\n",
      "                 ^^^^^^^^^^^^^^^^^^^^^^^^^^^^^^^^^^^^^^^^^^^^^^^^^^^^^^\n",
      "  File \"/home/joaorodriguesz/dev/workspace/github/dynamic-signs-recognition-libras-alphabet-cnn/venv/lib/python3.12/site-packages/torchvision/models/_utils.py\", line 142, in wrapper\n",
      "  File \"/home/joaorodriguesz/dev/workspace/github/dynamic-signs-recognition-libras-alphabet-cnn/venv/lib/python3.12/site-packages/torchvision/models/_utils.py\", line 228, in inner_wrapper\n",
      "  File \"/home/joaorodriguesz/dev/workspace/github/dynamic-signs-recognition-libras-alphabet-cnn/venv/lib/python3.12/site-packages/torchvision/models/alexnet.py\", line 117, in alexnet\n",
      "  File \"/home/joaorodriguesz/dev/workspace/github/dynamic-signs-recognition-libras-alphabet-cnn/venv/lib/python3.12/site-packages/torchvision/models/_api.py\", line 90, in get_state_dict\n",
      "  File \"/home/joaorodriguesz/dev/workspace/github/dynamic-signs-recognition-libras-alphabet-cnn/venv/lib/python3.12/site-packages/torch/hub.py\", line 871, in load_state_dict_from_url\n",
      "  File \"/home/joaorodriguesz/dev/workspace/github/dynamic-signs-recognition-libras-alphabet-cnn/venv/lib/python3.12/site-packages/torch/serialization.py\", line 1471, in load\n",
      "  File \"/home/joaorodriguesz/dev/workspace/github/dynamic-signs-recognition-libras-alphabet-cnn/venv/lib/python3.12/site-packages/torch/serialization.py\", line 1964, in _load\n",
      "  File \"/home/joaorodriguesz/dev/workspace/github/dynamic-signs-recognition-libras-alphabet-cnn/venv/lib/python3.12/site-packages/torch/serialization.py\", line 1928, in persistent_load\n",
      "  File \"/home/joaorodriguesz/dev/workspace/github/dynamic-signs-recognition-libras-alphabet-cnn/venv/lib/python3.12/site-packages/torch/serialization.py\", line 1888, in load_tensor\n",
      "KeyboardInterrupt\n",
      "\n",
      "During handling of the above exception, another exception occurred:\n",
      "\n",
      "Traceback (most recent call last):\n",
      "  File \"/home/joaorodriguesz/dev/workspace/github/dynamic-signs-recognition-libras-alphabet-cnn/venv/lib/python3.12/site-packages/pygments/styles/__init__.py\", line 45, in get_style_by_name\n",
      "ModuleNotFoundError: No module named 'pygments.styles.default'\n",
      "\n",
      "During handling of the above exception, another exception occurred:\n",
      "\n",
      "Traceback (most recent call last):\n",
      "  File \"/home/joaorodriguesz/dev/workspace/github/dynamic-signs-recognition-libras-alphabet-cnn/venv/lib/python3.12/site-packages/IPython/core/interactiveshell.py\", line 2173, in showtraceback\n",
      "  File \"/home/joaorodriguesz/dev/workspace/github/dynamic-signs-recognition-libras-alphabet-cnn/venv/lib/python3.12/site-packages/IPython/core/ultratb.py\", line 1182, in structured_traceback\n",
      "  File \"/home/joaorodriguesz/dev/workspace/github/dynamic-signs-recognition-libras-alphabet-cnn/venv/lib/python3.12/site-packages/IPython/core/ultratb.py\", line 1053, in structured_traceback\n",
      "  File \"/home/joaorodriguesz/dev/workspace/github/dynamic-signs-recognition-libras-alphabet-cnn/venv/lib/python3.12/site-packages/IPython/core/ultratb.py\", line 861, in structured_traceback\n",
      "  File \"/home/joaorodriguesz/dev/workspace/github/dynamic-signs-recognition-libras-alphabet-cnn/venv/lib/python3.12/site-packages/IPython/core/ultratb.py\", line 745, in format_exception_as_a_whole\n",
      "  File \"/home/joaorodriguesz/dev/workspace/github/dynamic-signs-recognition-libras-alphabet-cnn/venv/lib/python3.12/site-packages/IPython/core/ultratb.py\", line 684, in prepare_header\n",
      "  File \"/home/joaorodriguesz/dev/workspace/github/dynamic-signs-recognition-libras-alphabet-cnn/venv/lib/python3.12/site-packages/IPython/utils/PyColorize.py\", line 64, in format\n",
      "  File \"/home/joaorodriguesz/dev/workspace/github/dynamic-signs-recognition-libras-alphabet-cnn/venv/lib/python3.12/site-packages/IPython/utils/PyColorize.py\", line 54, in as_pygments_style\n",
      "  File \"/home/joaorodriguesz/dev/workspace/github/dynamic-signs-recognition-libras-alphabet-cnn/venv/lib/python3.12/site-packages/pygments/styles/__init__.py\", line 47, in get_style_by_name\n",
      "pygments.util.ClassNotFound: Could not find style module 'pygments.styles.default', though it should be builtin.\n"
     ]
    }
   ],
   "source": [
    "pre = Preprocessor()\n",
    "\n",
    "# Carrega amostras e rótulos\n",
    "train_samples, train_labels, idx2lbl = pre._collect_samples(os.path.join(SPLIT_DIR, \"train\"))\n",
    "val_samples, val_labels, _           = pre._collect_samples(os.path.join(SPLIT_DIR, \"val\"))\n",
    "test_samples, test_labels, _         = pre._collect_samples(os.path.join(SPLIT_DIR, \"test\"))\n",
    "\n",
    "# Loaders\n",
    "train_loader = pre._make_loader(list(zip(train_samples, train_labels)), batch_size=10, shuffle=True)\n",
    "val_loader   = pre._make_loader(list(zip(val_samples, val_labels)), batch_size=10, shuffle=False)\n",
    "test_loader  = pre._make_loader(list(zip(test_samples, test_labels)), batch_size=10, shuffle=False)\n",
    "\n",
    "model = AlexNet(num_classes=len(idx2lbl))\n",
    "model.train_model(train_loader, val_loader, idx2lbl, DEVICE, epochs=25)\n",
    "model.evaluate(test_loader, idx2lbl, DEVICE, \"TESTE FINAL\")\n",
    "model.save_model(os.path.join(SAVED_MODELS_DIR, \"alexnet_trained_v2.pth\"))"
   ]
  }
 ],
 "metadata": {
  "kernelspec": {
   "display_name": "venv",
   "language": "python",
   "name": "python3"
  },
  "language_info": {
   "codemirror_mode": {
    "name": "ipython",
    "version": 3
   },
   "file_extension": ".py",
   "mimetype": "text/x-python",
   "name": "python",
   "nbconvert_exporter": "python",
   "pygments_lexer": "ipython3",
   "version": "3.12.0"
  }
 },
 "nbformat": 4,
 "nbformat_minor": 2
}
