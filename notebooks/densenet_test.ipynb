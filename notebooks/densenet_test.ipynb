{
 "cells": [
  {
   "cell_type": "markdown",
   "metadata": {},
   "source": [
    "### Densenet"
   ]
  },
  {
   "cell_type": "code",
   "execution_count": 1,
   "metadata": {},
   "outputs": [],
   "source": [
    "from preprocess.preprocessor import Preprocessor\n",
    "from models.densenet121 import DenseNet121\n",
    "import torch\n",
    "import os"
   ]
  },
  {
   "cell_type": "code",
   "execution_count": 2,
   "metadata": {},
   "outputs": [],
   "source": [
    "SPLIT_DIR = \"/home/joaorodriguesz/dev/workspace/github/dynamic-signs-recognition-libras-alphabet-cnn/data/split\"\n",
    "DEVICE  = torch.device(\"cuda\" if torch.cuda.is_available() else \"cpu\")\n",
    "SAVED_MODELS_DIR = \"/home/joaorodriguesz/dev/workspace/github/dynamic-signs-recognition-libras-alphabet-cnn/saved_models\""
   ]
  },
  {
   "cell_type": "code",
   "execution_count": 3,
   "metadata": {},
   "outputs": [
    {
     "name": "stderr",
     "output_type": "stream",
     "text": [
      "/home/joaorodriguesz/dev/workspace/github/dynamic-signs-recognition-libras-alphabet-cnn/src/models/densenet121.py:33: FutureWarning: `torch.cuda.amp.GradScaler(args...)` is deprecated. Please use `torch.amp.GradScaler('cuda', args...)` instead.\n",
      "  self.scaler = GradScaler()\n",
      "/home/joaorodriguesz/dev/workspace/github/dynamic-signs-recognition-libras-alphabet-cnn/venv/lib/python3.12/site-packages/torch/amp/grad_scaler.py:132: UserWarning: torch.cuda.amp.GradScaler is enabled, but CUDA is not available.  Disabling.\n",
      "  warnings.warn(\n",
      "/home/joaorodriguesz/dev/workspace/github/dynamic-signs-recognition-libras-alphabet-cnn/venv/lib/python3.12/site-packages/torch/optim/lr_scheduler.py:62: UserWarning: The verbose parameter is deprecated. Please use get_last_lr() to access the learning rate.\n",
      "  warnings.warn(\n"
     ]
    },
    {
     "name": "stdout",
     "output_type": "stream",
     "text": [
      "\n",
      "📊 Balanceamento no treino:\n",
      " - H: 28 exemplo(s)\n",
      " - J: 28 exemplo(s)\n",
      " - K: 28 exemplo(s)\n",
      " - X: 28 exemplo(s)\n",
      " - Y: 20 exemplo(s)\n",
      " - Z: 28 exemplo(s)\n"
     ]
    },
    {
     "name": "stderr",
     "output_type": "stream",
     "text": [
      "/home/joaorodriguesz/dev/workspace/github/dynamic-signs-recognition-libras-alphabet-cnn/src/models/densenet121.py:68: FutureWarning: `torch.cuda.amp.autocast(args...)` is deprecated. Please use `torch.amp.autocast('cuda', args...)` instead.\n",
      "  with autocast():\n",
      "/home/joaorodriguesz/dev/workspace/github/dynamic-signs-recognition-libras-alphabet-cnn/venv/lib/python3.12/site-packages/torch/amp/autocast_mode.py:266: UserWarning: User provided device_type of 'cuda', but CUDA is not available. Disabling\n",
      "  warnings.warn(\n"
     ]
    },
    {
     "name": "stdout",
     "output_type": "stream",
     "text": [
      "📘 Epoch  1/25 | Loss: 1.8170 | Acc: 15.00%\n",
      "📘 Epoch  2/25 | Loss: 1.6246 | Acc: 44.38%\n",
      "📘 Epoch  3/25 | Loss: 1.5384 | Acc: 46.25%\n",
      "📘 Epoch  4/25 | Loss: 1.4601 | Acc: 56.25%\n",
      "📘 Epoch  5/25 | Loss: 1.3675 | Acc: 61.25%\n",
      "📘 Epoch  6/25 | Loss: 1.2703 | Acc: 65.62%\n",
      "📘 Epoch  7/25 | Loss: 1.2695 | Acc: 65.62%\n",
      "📘 Epoch  8/25 | Loss: 1.2025 | Acc: 69.38%\n",
      "📘 Epoch  9/25 | Loss: 1.1504 | Acc: 70.00%\n",
      "📘 Epoch 10/25 | Loss: 1.0924 | Acc: 76.25%\n",
      "📘 Epoch 11/25 | Loss: 1.0491 | Acc: 78.12%\n",
      "📘 Epoch 12/25 | Loss: 0.9937 | Acc: 81.88%\n",
      "📘 Epoch 13/25 | Loss: 0.9736 | Acc: 84.38%\n",
      "📘 Epoch 14/25 | Loss: 0.9211 | Acc: 84.38%\n",
      "📘 Epoch 15/25 | Loss: 0.8601 | Acc: 87.50%\n",
      "📘 Epoch 16/25 | Loss: 0.8355 | Acc: 84.38%\n",
      "📘 Epoch 17/25 | Loss: 0.7838 | Acc: 88.12%\n",
      "📘 Epoch 18/25 | Loss: 0.7974 | Acc: 85.62%\n",
      "📘 Epoch 19/25 | Loss: 0.7529 | Acc: 88.12%\n",
      "📘 Epoch 20/25 | Loss: 0.7203 | Acc: 86.25%\n",
      "📘 Epoch 21/25 | Loss: 0.6490 | Acc: 91.25%\n",
      "📘 Epoch 22/25 | Loss: 0.6200 | Acc: 94.38%\n",
      "📘 Epoch 23/25 | Loss: 0.6420 | Acc: 88.12%\n",
      "📘 Epoch 24/25 | Loss: 0.6368 | Acc: 89.38%\n",
      "📘 Epoch 25/25 | Loss: 0.5647 | Acc: 91.25%\n",
      "======================================================================\n",
      "🧪 RELATÓRIO (VALIDAÇÃO)\n",
      "======================================================================\n",
      "Total de amostras : 35\n",
      "Acertos            : 13\n",
      "Erros              : 22\n",
      "Acurácia geral     : 37.14%\n",
      "----------------------------------------------------------------------\n",
      "📊 Acurácia por letra:\n",
      "   H : 83.33% (5/6)\n",
      "   J : 0.00% (0/6)\n",
      "   K : 66.67% (4/6)\n",
      "   X : 16.67% (1/6)\n",
      "   Y : 20.00% (1/5)\n",
      "   Z : 33.33% (2/6)\n",
      "----------------------------------------------------------------------\n",
      "Precision (macro)   : 0.4222\n",
      "Recall (macro)  : 0.3667\n",
      "F1-score (macro)   : 0.3345\n",
      "======================================================================\n",
      "🧩 Matriz de confusão (linhas = verdadeiro, colunas = predito):\n",
      "[[5, 1, 0, 0, 0, 0],\n",
      " [2, 0, 4, 0, 0, 0],\n",
      " [0, 2, 4, 0, 0, 0],\n",
      " [0, 0, 2, 1, 2, 1],\n",
      " [0, 0, 0, 0, 1, 4],\n",
      " [0, 0, 2, 0, 2, 2]]\n",
      "======================================================================\n",
      "🧪 RELATÓRIO (TESTE FINAL)\n",
      "======================================================================\n",
      "Total de amostras : 35\n",
      "Acertos            : 13\n",
      "Erros              : 22\n",
      "Acurácia geral     : 37.14%\n",
      "----------------------------------------------------------------------\n",
      "📊 Acurácia por letra:\n",
      "   H : 50.00% (3/6)\n",
      "   J : 16.67% (1/6)\n",
      "   K : 33.33% (2/6)\n",
      "   X : 16.67% (1/6)\n",
      "   Y : 100.00% (5/5)\n",
      "   Z : 16.67% (1/6)\n",
      "----------------------------------------------------------------------\n",
      "Precision (macro)   : 0.3509\n",
      "Recall (macro)  : 0.3889\n",
      "F1-score (macro)   : 0.3445\n",
      "======================================================================\n",
      "🧩 Matriz de confusão (linhas = verdadeiro, colunas = predito):\n",
      "[[3, 1, 2, 0, 0, 0],\n",
      " [4, 1, 0, 0, 0, 1],\n",
      " [3, 0, 2, 0, 0, 1],\n",
      " [0, 1, 1, 1, 2, 1],\n",
      " [0, 0, 0, 0, 5, 0],\n",
      " [0, 0, 1, 2, 2, 1]]\n",
      "✅ Modelo salvo em: /home/joaorodriguesz/dev/workspace/github/dynamic-signs-recognition-libras-alphabet-cnn/saved_models/densenet121_trained_v2.pth\n"
     ]
    }
   ],
   "source": [
    "pre = Preprocessor()\n",
    "\n",
    "# Carrega amostras e rótulos\n",
    "train_samples, train_labels, idx2lbl = pre._collect_samples(os.path.join(SPLIT_DIR, \"train\"))\n",
    "val_samples, val_labels, _           = pre._collect_samples(os.path.join(SPLIT_DIR, \"val\"))\n",
    "test_samples, test_labels, _         = pre._collect_samples(os.path.join(SPLIT_DIR, \"test\"))\n",
    "\n",
    "# Loaders\n",
    "train_loader = pre._make_loader(list(zip(train_samples, train_labels)), batch_size=10, shuffle=True)\n",
    "val_loader   = pre._make_loader(list(zip(val_samples, val_labels)), batch_size=10, shuffle=False)\n",
    "test_loader  = pre._make_loader(list(zip(test_samples, test_labels)), batch_size=10, shuffle=False)\n",
    "\n",
    "model = DenseNet121(num_classes=len(idx2lbl))\n",
    "model.train_model(train_loader, val_loader, idx2lbl, DEVICE, epochs=25)\n",
    "model.evaluate(test_loader, idx2lbl, DEVICE, \"TESTE FINAL\")\n",
    "model.save_model(os.path.join(SAVED_MODELS_DIR, \"densenet121_trained_v2.pth\"))"
   ]
  }
 ],
 "metadata": {
  "kernelspec": {
   "display_name": "venv",
   "language": "python",
   "name": "python3"
  },
  "language_info": {
   "codemirror_mode": {
    "name": "ipython",
    "version": 3
   },
   "file_extension": ".py",
   "mimetype": "text/x-python",
   "name": "python",
   "nbconvert_exporter": "python",
   "pygments_lexer": "ipython3",
   "version": "3.12.0"
  }
 },
 "nbformat": 4,
 "nbformat_minor": 2
}
