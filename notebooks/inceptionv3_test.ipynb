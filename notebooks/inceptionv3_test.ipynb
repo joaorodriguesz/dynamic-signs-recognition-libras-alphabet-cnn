{
 "cells": [
  {
   "cell_type": "markdown",
   "metadata": {},
   "source": [
    "### Inception"
   ]
  },
  {
   "cell_type": "code",
   "execution_count": 1,
   "metadata": {},
   "outputs": [],
   "source": [
    "from preprocess.preprocessor import Preprocessor\n",
    "from models.inceptionv3 import InceptionV3Net\n",
    "import torch\n",
    "import os"
   ]
  },
  {
   "cell_type": "code",
   "execution_count": 2,
   "metadata": {},
   "outputs": [],
   "source": [
    "SPLIT_DIR = \"/home/joaorodriguesz/dev/workspace/github/dynamic-signs-recognition-libras-alphabet-cnn/data/split\"\n",
    "DEVICE  = torch.device(\"cuda\" if torch.cuda.is_available() else \"cpu\")\n",
    "SAVED_MODELS_DIR = \"/home/joaorodriguesz/dev/workspace/github/dynamic-signs-recognition-libras-alphabet-cnn/saved_models\""
   ]
  },
  {
   "cell_type": "code",
   "execution_count": 3,
   "metadata": {},
   "outputs": [
    {
     "name": "stderr",
     "output_type": "stream",
     "text": [
      "/home/joaorodriguesz/dev/workspace/github/dynamic-signs-recognition-libras-alphabet-cnn/venv/lib/python3.12/site-packages/torch/amp/grad_scaler.py:132: UserWarning: torch.cuda.amp.GradScaler is enabled, but CUDA is not available.  Disabling.\n",
      "  warnings.warn(\n"
     ]
    },
    {
     "name": "stdout",
     "output_type": "stream",
     "text": [
      "\n",
      "📊 Balanceamento no treino:\n",
      " - H: 28 exemplo(s)\n",
      " - J: 28 exemplo(s)\n",
      " - K: 28 exemplo(s)\n",
      " - X: 28 exemplo(s)\n",
      " - Y: 20 exemplo(s)\n",
      " - Z: 28 exemplo(s)\n",
      "📘 Epoch  1/25 | Loss: 1.8276 | Acc: 16.88%\n",
      "📘 Epoch  2/25 | Loss: 1.5490 | Acc: 38.75%\n",
      "📘 Epoch  3/25 | Loss: 1.4346 | Acc: 48.12%\n",
      "📘 Epoch  4/25 | Loss: 1.3001 | Acc: 52.50%\n",
      "📘 Epoch  5/25 | Loss: 1.2354 | Acc: 58.12%\n",
      "📘 Epoch  6/25 | Loss: 1.0841 | Acc: 63.12%\n",
      "📘 Epoch  7/25 | Loss: 0.9991 | Acc: 72.50%\n",
      "📘 Epoch  8/25 | Loss: 0.9391 | Acc: 78.12%\n",
      "📘 Epoch  9/25 | Loss: 0.8678 | Acc: 75.62%\n",
      "📘 Epoch 10/25 | Loss: 0.8301 | Acc: 80.62%\n",
      "📘 Epoch 11/25 | Loss: 0.7417 | Acc: 80.62%\n",
      "📘 Epoch 12/25 | Loss: 0.6949 | Acc: 82.50%\n",
      "📘 Epoch 13/25 | Loss: 0.6245 | Acc: 85.62%\n",
      "📘 Epoch 14/25 | Loss: 0.5777 | Acc: 88.12%\n",
      "📘 Epoch 15/25 | Loss: 0.5653 | Acc: 88.12%\n",
      "📘 Epoch 16/25 | Loss: 0.4676 | Acc: 90.00%\n",
      "📘 Epoch 17/25 | Loss: 0.4866 | Acc: 87.50%\n",
      "📘 Epoch 18/25 | Loss: 0.4385 | Acc: 93.12%\n",
      "📘 Epoch 19/25 | Loss: 0.4410 | Acc: 88.12%\n",
      "📘 Epoch 20/25 | Loss: 0.4365 | Acc: 86.88%\n",
      "📘 Epoch 21/25 | Loss: 0.3829 | Acc: 90.62%\n",
      "📘 Epoch 22/25 | Loss: 0.3234 | Acc: 95.00%\n",
      "📘 Epoch 23/25 | Loss: 0.3667 | Acc: 92.50%\n",
      "📘 Epoch 24/25 | Loss: 0.2889 | Acc: 93.12%\n",
      "📘 Epoch 25/25 | Loss: 0.2856 | Acc: 95.00%\n",
      "======================================================================\n",
      "🧪 RELATÓRIO (VALIDAÇÃO)\n",
      "======================================================================\n",
      "Total de amostras : 35\n",
      "Acertos            : 16\n",
      "Erros              : 19\n",
      "Acurácia geral     : 45.71%\n",
      "----------------------------------------------------------------------\n",
      "📊 Acurácia por letra:\n",
      "   H : 66.67% (4/6)\n",
      "   J : 16.67% (1/6)\n",
      "   K : 66.67% (4/6)\n",
      "   X : 33.33% (2/6)\n",
      "   Y : 20.00% (1/5)\n",
      "   Z : 66.67% (4/6)\n",
      "----------------------------------------------------------------------\n",
      "Precision (macro)   : 0.5750\n",
      "Recall (macro)  : 0.4500\n",
      "F1-score (macro)   : 0.4416\n",
      "======================================================================\n",
      "🧩 Matriz de confusão (linhas = verdadeiro, colunas = predito):\n",
      "[[4, 1, 1, 0, 0, 0],\n",
      " [1, 1, 2, 0, 0, 2],\n",
      " [0, 2, 4, 0, 0, 0],\n",
      " [0, 0, 2, 2, 0, 2],\n",
      " [0, 0, 0, 0, 1, 4],\n",
      " [0, 0, 1, 1, 0, 4]]\n",
      "======================================================================\n",
      "🧪 RELATÓRIO (TESTE FINAL)\n",
      "======================================================================\n",
      "Total de amostras : 35\n",
      "Acertos            : 18\n",
      "Erros              : 17\n",
      "Acurácia geral     : 51.43%\n",
      "----------------------------------------------------------------------\n",
      "📊 Acurácia por letra:\n",
      "   H : 33.33% (2/6)\n",
      "   J : 50.00% (3/6)\n",
      "   K : 50.00% (3/6)\n",
      "   X : 50.00% (3/6)\n",
      "   Y : 80.00% (4/5)\n",
      "   Z : 50.00% (3/6)\n",
      "----------------------------------------------------------------------\n",
      "Precision (macro)   : 0.5649\n",
      "Recall (macro)  : 0.5222\n",
      "F1-score (macro)   : 0.5330\n",
      "======================================================================\n",
      "🧩 Matriz de confusão (linhas = verdadeiro, colunas = predito):\n",
      "[[2, 1, 3, 0, 0, 0],\n",
      " [2, 3, 1, 0, 0, 0],\n",
      " [3, 0, 3, 0, 0, 0],\n",
      " [0, 0, 0, 3, 0, 3],\n",
      " [0, 0, 0, 0, 4, 1],\n",
      " [0, 0, 1, 1, 1, 3]]\n",
      "✅ Modelo salvo em: /home/joaorodriguesz/dev/workspace/github/dynamic-signs-recognition-libras-alphabet-cnn/saved_models/inceptionv3_trained_v2.pth\n"
     ]
    }
   ],
   "source": [
    "\n",
    "pre = Preprocessor()\n",
    "\n",
    "# Carrega amostras e rótulos\n",
    "train_samples, train_labels, idx2lbl = pre._collect_samples(os.path.join(SPLIT_DIR, \"train\"))\n",
    "val_samples, val_labels, _           = pre._collect_samples(os.path.join(SPLIT_DIR, \"val\"))\n",
    "test_samples, test_labels, _         = pre._collect_samples(os.path.join(SPLIT_DIR, \"test\"))\n",
    "\n",
    "# Loaders\n",
    "train_loader = pre._make_loader(list(zip(train_samples, train_labels)), batch_size=10, shuffle=True)\n",
    "val_loader   = pre._make_loader(list(zip(val_samples, val_labels)), batch_size=10, shuffle=False)\n",
    "test_loader  = pre._make_loader(list(zip(test_samples, test_labels)), batch_size=10, shuffle=False)\n",
    "\n",
    "model = InceptionV3Net(num_classes=len(idx2lbl))\n",
    "model.train_model(train_loader, val_loader, idx2lbl, DEVICE, epochs=25)\n",
    "model.evaluate(test_loader, idx2lbl, DEVICE, \"TESTE FINAL\")\n",
    "model.save_model(os.path.join(SAVED_MODELS_DIR, \"inceptionv3_trained_v2.pth\"))"
   ]
  }
 ],
 "metadata": {
  "kernelspec": {
   "display_name": "venv",
   "language": "python",
   "name": "python3"
  },
  "language_info": {
   "codemirror_mode": {
    "name": "ipython",
    "version": 3
   },
   "file_extension": ".py",
   "mimetype": "text/x-python",
   "name": "python",
   "nbconvert_exporter": "python",
   "pygments_lexer": "ipython3",
   "version": "3.12.0"
  }
 },
 "nbformat": 4,
 "nbformat_minor": 2
}
