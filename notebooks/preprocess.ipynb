{
 "cells": [
  {
   "cell_type": "markdown",
   "metadata": {},
   "source": [
    "### Preprocess"
   ]
  },
  {
   "cell_type": "code",
   "execution_count": null,
   "metadata": {},
   "outputs": [],
   "source": [
    "import os\n",
    "import shutil\n",
    "from sklearn.model_selection import train_test_split\n",
    "from preprocess.preprocessor   import Preprocessor\n",
    "from preprocess.video_manager  import VideoManager"
   ]
  },
  {
   "cell_type": "code",
   "execution_count": null,
   "metadata": {},
   "outputs": [],
   "source": [
    "RAW_DIR = (\n",
    "    \"/home/joaorodriguesz/dev/workspace/github/\"\n",
    "    \"dynamic-signs-recognition-libras-alphabet-cnn/data/raw_videos\"\n",
    ")\n",
    "NPY_DIR = (\n",
    "    \"/home/joaorodriguesz/dev/workspace/github/\"\n",
    "    \"dynamic-signs-recognition-libras-alphabet-cnn/data/numpy_data\"\n",
    ")\n",
    "SPLIT_DIR = (\n",
    "    \"/home/joaorodriguesz/dev/workspace/github/\"\n",
    "    \"dynamic-signs-recognition-libras-alphabet-cnn/data/split\"\n",
    ")\n",
    "\n",
    "DATASETS = [\"vlibras\", \"ines_gov\"]"
   ]
  },
  {
   "cell_type": "code",
   "execution_count": null,
   "metadata": {},
   "outputs": [],
   "source": [
    "video_manager = VideoManager(RAW_DIR)\n",
    "preprocessor  = Preprocessor(\n",
    "    save_dir       = NPY_DIR,\n",
    "    augment        = True,  \n",
    "    augment_factor = 10      \n",
    ")"
   ]
  },
  {
   "cell_type": "markdown",
   "metadata": {},
   "source": [
    "### Pré‑processamento"
   ]
  },
  {
   "cell_type": "code",
   "execution_count": null,
   "metadata": {},
   "outputs": [],
   "source": [
    "print(\"\\n🚀 Iniciando pré‑processamento + data‑augmentation...\\n\")\n",
    "\n",
    "for dataset in DATASETS:\n",
    "    ds_path = os.path.join(RAW_DIR, dataset)\n",
    "    if not os.path.isdir(ds_path):\n",
    "        print(f\"⚠️  Diretório {ds_path} não encontrado. Pulando...\")\n",
    "        continue\n",
    "\n",
    "    for letter in sorted(os.listdir(ds_path)):\n",
    "        letter_path = os.path.join(ds_path, letter)\n",
    "        if not os.path.isdir(letter_path):\n",
    "            continue\n",
    "\n",
    "        print(f\"🔄  {dataset.upper()} | Letra {letter.upper()}\")\n",
    "        videos = video_manager.list_videos(letter_path)\n",
    "        if not videos:\n",
    "            print(\"   (nenhum vídeo encontrado)\\n\")\n",
    "            continue\n",
    "\n",
    "        for v in videos:\n",
    "            vid_name = os.path.splitext(os.path.basename(v))[0]\n",
    "            preprocessor.process_and_save(v, vid_name, letter.upper())\n",
    "\n",
    "print(\"\\n✅ Pré‑processamento concluído!\\n\")"
   ]
  },
  {
   "cell_type": "markdown",
   "metadata": {},
   "source": [
    "### Contagem de amostras"
   ]
  },
  {
   "cell_type": "code",
   "execution_count": null,
   "metadata": {},
   "outputs": [],
   "source": [
    "total = sum(\n",
    "    len([f for f in os.listdir(os.path.join(NPY_DIR, l)) if f.endswith(\".npy\")])\n",
    "    for l in os.listdir(NPY_DIR)\n",
    "    if os.path.isdir(os.path.join(NPY_DIR, l))\n",
    ")\n",
    "\n",
    "print(f\"🔍 Total de amostras geradas (com aug.): {total}\")"
   ]
  },
  {
   "cell_type": "markdown",
   "metadata": {},
   "source": [
    "### Gerando e salvando splits fixos"
   ]
  },
  {
   "cell_type": "code",
   "execution_count": null,
   "metadata": {},
   "outputs": [],
   "source": [
    "print(\"\\n📦 Gerando e salvando splits fixos (train / val / test)...\")\n",
    "\n",
    "for split in [\"train\", \"val\", \"test\"]:\n",
    "    split_path = os.path.join(SPLIT_DIR, split)\n",
    "    if os.path.exists(split_path):\n",
    "        shutil.rmtree(split_path)\n",
    "    os.makedirs(split_path)\n",
    "\n",
    "samples = []\n",
    "for label in sorted(os.listdir(NPY_DIR)):\n",
    "    label_dir = os.path.join(NPY_DIR, label)\n",
    "    if not os.path.isdir(label_dir):\n",
    "        continue\n",
    "    for f in os.listdir(label_dir):\n",
    "        if f.endswith(\".npy\"):\n",
    "            samples.append((os.path.join(label_dir, f), label))\n",
    "\n",
    "# Split\n",
    "paths, labels = zip(*samples)\n",
    "train_val, test = train_test_split(samples, test_size=0.15, stratify=labels, random_state=42)\n",
    "train, val = train_test_split(train_val, test_size=0.15 / (1 - 0.15), stratify=[l for _, l in train_val], random_state=42)\n",
    "\n",
    "splits = {\"train\": train, \"val\": val, \"test\": test}\n",
    "\n",
    "for split_name, data in splits.items():\n",
    "    for src, label in data:\n",
    "        dest_dir = os.path.join(SPLIT_DIR, split_name, label)\n",
    "        os.makedirs(dest_dir, exist_ok=True)\n",
    "        dest_path = os.path.join(dest_dir, os.path.basename(src))\n",
    "        shutil.copy2(src, dest_path)\n",
    "\n",
    "print(\"✅ Splits fixos salvos em: data/split\")\n",
    "print(\"\\n🎯 Tamanhos dos splits:\")\n",
    "print(f\"   • Train: {len(train)} amostras\")\n",
    "print(f\"   • Val  : {len(val)} amostras\")\n",
    "print(f\"   • Test : {len(test)} amostras\")"
   ]
  }
 ],
 "metadata": {
  "kernelspec": {
   "display_name": "venv",
   "language": "python",
   "name": "python3"
  },
  "language_info": {
   "codemirror_mode": {
    "name": "ipython",
    "version": 3
   },
   "file_extension": ".py",
   "mimetype": "text/x-python",
   "name": "python",
   "nbconvert_exporter": "python",
   "pygments_lexer": "ipython3",
   "version": "3.12.0"
  }
 },
 "nbformat": 4,
 "nbformat_minor": 2
}
