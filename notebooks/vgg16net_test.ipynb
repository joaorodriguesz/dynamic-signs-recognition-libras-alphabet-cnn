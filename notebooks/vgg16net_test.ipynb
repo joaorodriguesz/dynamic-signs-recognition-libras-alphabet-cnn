{
 "cells": [
  {
   "cell_type": "markdown",
   "metadata": {},
   "source": [
    "### VGG16"
   ]
  },
  {
   "cell_type": "code",
   "execution_count": 1,
   "metadata": {},
   "outputs": [],
   "source": [
    "from preprocess.preprocessor import Preprocessor\n",
    "from models.vgg16net import VGG16Net\n",
    "import torch\n",
    "import os"
   ]
  },
  {
   "cell_type": "code",
   "execution_count": 2,
   "metadata": {},
   "outputs": [],
   "source": [
    "SPLIT_DIR = \"/home/joaorodriguesz/dev/workspace/github/dynamic-signs-recognition-libras-alphabet-cnn/data/split\"\n",
    "DEVICE  = torch.device(\"cuda\" if torch.cuda.is_available() else \"cpu\")\n",
    "SAVED_MODELS_DIR = \"/home/joaorodriguesz/dev/workspace/github/dynamic-signs-recognition-libras-alphabet-cnn/saved_models\""
   ]
  },
  {
   "cell_type": "code",
   "execution_count": 3,
   "metadata": {},
   "outputs": [
    {
     "name": "stderr",
     "output_type": "stream",
     "text": [
      "/home/joaorodriguesz/dev/workspace/github/dynamic-signs-recognition-libras-alphabet-cnn/venv/lib/python3.12/site-packages/torch/optim/lr_scheduler.py:62: UserWarning: The verbose parameter is deprecated. Please use get_last_lr() to access the learning rate.\n",
      "  warnings.warn(\n"
     ]
    },
    {
     "name": "stdout",
     "output_type": "stream",
     "text": [
      "\n",
      "📊 Balanceamento no treino:\n",
      " - H: 28 exemplo(s)\n",
      " - J: 28 exemplo(s)\n",
      " - K: 28 exemplo(s)\n",
      " - X: 28 exemplo(s)\n",
      " - Y: 20 exemplo(s)\n",
      " - Z: 28 exemplo(s)\n",
      "📘 Epoch  1/25 | Loss: 1.9626 | Acc: 16.25%\n",
      "📘 Epoch  2/25 | Loss: 1.4972 | Acc: 40.00%\n",
      "📘 Epoch  3/25 | Loss: 1.2984 | Acc: 48.12%\n",
      "📘 Epoch  4/25 | Loss: 1.0958 | Acc: 58.75%\n",
      "📘 Epoch  5/25 | Loss: 0.8702 | Acc: 80.00%\n",
      "📘 Epoch  6/25 | Loss: 0.7112 | Acc: 80.62%\n",
      "📘 Epoch  7/25 | Loss: 0.5317 | Acc: 83.12%\n",
      "📘 Epoch  8/25 | Loss: 0.3968 | Acc: 90.62%\n",
      "📘 Epoch  9/25 | Loss: 0.3384 | Acc: 91.25%\n",
      "📘 Epoch 10/25 | Loss: 0.2725 | Acc: 91.88%\n",
      "📘 Epoch 11/25 | Loss: 0.1999 | Acc: 92.50%\n",
      "📘 Epoch 12/25 | Loss: 0.1965 | Acc: 92.50%\n",
      "📘 Epoch 13/25 | Loss: 0.1851 | Acc: 93.75%\n",
      "📘 Epoch 14/25 | Loss: 0.1530 | Acc: 93.75%\n",
      "📘 Epoch 15/25 | Loss: 0.1322 | Acc: 95.00%\n",
      "📘 Epoch 16/25 | Loss: 0.0911 | Acc: 96.88%\n",
      "📘 Epoch 17/25 | Loss: 0.1349 | Acc: 91.88%\n",
      "📘 Epoch 18/25 | Loss: 0.1154 | Acc: 93.12%\n",
      "📘 Epoch 19/25 | Loss: 0.0965 | Acc: 95.00%\n",
      "📘 Epoch 20/25 | Loss: 0.0743 | Acc: 96.25%\n",
      "📘 Epoch 21/25 | Loss: 0.0771 | Acc: 95.62%\n",
      "📘 Epoch 22/25 | Loss: 0.0778 | Acc: 95.00%\n",
      "📘 Epoch 23/25 | Loss: 0.0836 | Acc: 95.62%\n",
      "📘 Epoch 24/25 | Loss: 0.0880 | Acc: 95.00%\n",
      "📘 Epoch 25/25 | Loss: 0.0671 | Acc: 95.62%\n",
      "======================================================================\n",
      "🧪 RELATÓRIO (VALIDAÇÃO)\n",
      "======================================================================\n",
      "Total de amostras : 35\n",
      "Acertos            : 17\n",
      "Erros              : 18\n",
      "Acurácia geral     : 48.57%\n",
      "----------------------------------------------------------------------\n",
      "📊 Acurácia por letra:\n",
      "   H : 83.33% (5/6)\n",
      "   J : 16.67% (1/6)\n",
      "   K : 33.33% (2/6)\n",
      "   X : 33.33% (2/6)\n",
      "   Y : 60.00% (3/5)\n",
      "   Z : 66.67% (4/6)\n",
      "----------------------------------------------------------------------\n",
      "Precision (macro)   : 0.5083\n",
      "Recall (macro)  : 0.4889\n",
      "F1-score (macro)   : 0.4861\n",
      "======================================================================\n",
      "🧩 Matriz de confusão (linhas = verdadeiro, colunas = predito):\n",
      "[[5, 1, 0, 0, 0, 0],\n",
      " [1, 1, 4, 0, 0, 0],\n",
      " [0, 2, 2, 0, 0, 2],\n",
      " [0, 1, 1, 2, 2, 0],\n",
      " [0, 0, 0, 0, 3, 2],\n",
      " [0, 0, 1, 1, 0, 4]]\n",
      "======================================================================\n",
      "🧪 RELATÓRIO (TESTE FINAL)\n",
      "======================================================================\n",
      "Total de amostras : 35\n",
      "Acertos            : 21\n",
      "Erros              : 14\n",
      "Acurácia geral     : 60.00%\n",
      "----------------------------------------------------------------------\n",
      "📊 Acurácia por letra:\n",
      "   H : 83.33% (5/6)\n",
      "   J : 66.67% (4/6)\n",
      "   K : 33.33% (2/6)\n",
      "   X : 83.33% (5/6)\n",
      "   Y : 60.00% (3/5)\n",
      "   Z : 33.33% (2/6)\n",
      "----------------------------------------------------------------------\n",
      "Precision (macro)   : 0.6101\n",
      "Recall (macro)  : 0.6000\n",
      "F1-score (macro)   : 0.5906\n",
      "======================================================================\n",
      "🧩 Matriz de confusão (linhas = verdadeiro, colunas = predito):\n",
      "[[5, 0, 1, 0, 0, 0],\n",
      " [2, 4, 0, 0, 0, 0],\n",
      " [1, 2, 2, 0, 0, 1],\n",
      " [0, 0, 0, 5, 0, 1],\n",
      " [0, 0, 0, 0, 3, 2],\n",
      " [0, 1, 0, 2, 1, 2]]\n",
      "✅ Modelo salvo em: /home/joaorodriguesz/dev/workspace/github/dynamic-signs-recognition-libras-alphabet-cnn/saved_models/vgg16net_trained_v2.pth\n"
     ]
    }
   ],
   "source": [
    "pre = Preprocessor()\n",
    "\n",
    "# Carrega amostras e rótulos\n",
    "train_samples, train_labels, idx2lbl = pre._collect_samples(os.path.join(SPLIT_DIR, \"train\"))\n",
    "val_samples, val_labels, _           = pre._collect_samples(os.path.join(SPLIT_DIR, \"val\"))\n",
    "test_samples, test_labels, _         = pre._collect_samples(os.path.join(SPLIT_DIR, \"test\"))\n",
    "\n",
    "# Loaders\n",
    "train_loader = pre._make_loader(list(zip(train_samples, train_labels)), batch_size=10, shuffle=True)\n",
    "val_loader   = pre._make_loader(list(zip(val_samples, val_labels)), batch_size=10, shuffle=False)\n",
    "test_loader  = pre._make_loader(list(zip(test_samples, test_labels)), batch_size=10, shuffle=False)\n",
    "\n",
    "model = VGG16Net(num_classes=len(idx2lbl))\n",
    "model.train_model(train_loader, val_loader, idx2lbl, DEVICE, epochs=25)\n",
    "model.evaluate(test_loader, idx2lbl, DEVICE, \"TESTE FINAL\")\n",
    "model_save_path = os.path.join(SAVED_MODELS_DIR, \"vgg16net_trained_v2.pth\")\n",
    "model.save_model(model_save_path)"
   ]
  }
 ],
 "metadata": {
  "kernelspec": {
   "display_name": "venv",
   "language": "python",
   "name": "python3"
  },
  "language_info": {
   "codemirror_mode": {
    "name": "ipython",
    "version": 3
   },
   "file_extension": ".py",
   "mimetype": "text/x-python",
   "name": "python",
   "nbconvert_exporter": "python",
   "pygments_lexer": "ipython3",
   "version": "3.12.0"
  }
 },
 "nbformat": 4,
 "nbformat_minor": 2
}
